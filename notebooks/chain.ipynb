{
 "cells": [
  {
   "cell_type": "code",
   "execution_count": null,
   "metadata": {},
   "outputs": [],
   "source": [
    "from binance.spot import Spot as Client\n",
    "import pandas as pd\n",
    "import numpy as np\n",
    "import dotenv\n",
    "import matplotlib.pyplot as plt\n",
    "import os\n",
    "from aperture import OptionMarkPriceClient"
   ]
  },
  {
   "cell_type": "code",
   "execution_count": null,
   "metadata": {},
   "outputs": [],
   "source": [
    "dotenv.load_dotenv()"
   ]
  },
  {
   "cell_type": "code",
   "execution_count": null,
   "metadata": {},
   "outputs": [],
   "source": [
    "client = Client(\n",
    "    os.getenv(\"BINANCE_API_KEY\"),\n",
    "    os.getenv(\"BINANCE_API_SECRET\"), \n",
    ")"
   ]
  },
  {
   "cell_type": "code",
   "execution_count": null,
   "metadata": {},
   "outputs": [],
   "source": [
    "client = OptionMarkPriceClient(\n",
    "    api_key=os.getenv(\"BINANCE_API_KEY\"),\n",
    "    secret_key=os.getenv(\"BINANCE_API_SECRET\"),\n",
    ")\n",
    "\n",
    "call_chain_df = await client.get_option_chain_df(date='2023-07-07', coin='ETH', option_type='CALL')\n",
    "put_chain_df = await client.get_option_chain_df(date='2023-07-07', coin='ETH', option_type='PUT')"
   ]
  },
  {
   "cell_type": "code",
   "execution_count": null,
   "metadata": {},
   "outputs": [],
   "source": [
    "put_chain_df.sort_values('strike', ascending=False, inplace=True)\n",
    "call_chain_df.sort_values('strike', ascending=True, inplace=True)"
   ]
  },
  {
   "cell_type": "code",
   "execution_count": null,
   "metadata": {},
   "outputs": [],
   "source": [
    "plt.figure(figsize=(20, 10))\n",
    "plt.plot(put_chain_df['strike'], put_chain_df['markIV'], label='put mark IV', linestyle='--', color='red')\n",
    "plt.plot(call_chain_df['strike'], call_chain_df['markIV'], label='put mark IV', linestyle='--', color='green')\n",
    "plt.scatter(put_chain_df['strike'], put_chain_df['askIV'], label='put ask IV', marker='v', color='red')\n",
    "plt.scatter(put_chain_df['strike'], put_chain_df['bidIV'], label='put bid IV', marker='^', color='red')\n",
    "plt.scatter(call_chain_df['strike'], call_chain_df['askIV'], label='call ask IV', marker='v', color='green', alpha=0.5)\n",
    "plt.scatter(call_chain_df['strike'], call_chain_df['bidIV'], label='call bid IV', marker='^', color='green', alpha=0.5)\n",
    "plt.legend()\n",
    "plt.grid()\n",
    "# plt.plot(call_chain_df['strike'], put_chain_df['markIV'], label='put mark IV')"
   ]
  },
  {
   "cell_type": "code",
   "execution_count": null,
   "metadata": {},
   "outputs": [],
   "source": [
    "put_chain_df"
   ]
  },
  {
   "cell_type": "code",
   "execution_count": null,
   "metadata": {},
   "outputs": [],
   "source": [
    "import math\n",
    "from scipy.stats import norm\n",
    "\n",
    "def black_scholes_call(S, K, T, r, sigma):\n",
    "    \"\"\"\n",
    "    This function returns the Black-Scholes call price.\n",
    "    \"\"\"\n",
    "    d1 = (math.log(S/K) + (r + sigma**2 / 2) * T) / (sigma * math.sqrt(T))\n",
    "    d2 = d1 - sigma * math.sqrt(T)\n",
    "    return S * norm.cdf(d1) - K * math.exp(-r * T) * norm.cdf(d2)\n",
    "\n",
    "def vega(S, K, T, r, sigma):\n",
    "    \"\"\"\n",
    "    This function returns the Vega of the option, which is needed in the calculation of implied volatility.\n",
    "    \"\"\"\n",
    "    d1 = (math.log(S/K) + (r + sigma**2 / 2) * T) / (sigma * math.sqrt(T))\n",
    "    return S * norm.pdf(d1) * math.sqrt(T)\n",
    "\n",
    "def implied_vol_newton_raphson(S, K, T, r, market_price, sigma_init=0.5, max_iter=100, tol=1e-5):\n",
    "    \"\"\"\n",
    "    This function returns the implied volatility using Newton-Raphson method.\n",
    "    \"\"\"\n",
    "    sigma = sigma_init\n",
    "    for i in range(max_iter):\n",
    "        price = black_scholes_call(S, K, T, r, sigma)\n",
    "        v = vega(S, K, T, r, sigma)\n",
    "        price_diff = price - market_price  # f(sigma)\n",
    "\n",
    "        # if the difference is very small, break out the loop\n",
    "        if abs(price_diff) < tol:\n",
    "            return sigma\n",
    "\n",
    "        # Newton-Raphson formula\n",
    "        sigma = sigma - price_diff/v  # sigma - f(sigma)/f'(sigma)\n",
    "\n",
    "    # If volatility is not found after max iterations, raise an exception\n",
    "    raise Exception('Implied volatility not found')\n",
    "\n",
    "# usage example:\n",
    "S = 100  # Underlying asset price\n",
    "K = 100  # Strike price\n",
    "T = 1    # Time to maturity\n",
    "r = 0.05 # Risk-free interest rate\n",
    "market_price = 10  # Market price of the option\n",
    "\n",
    "implied_vol = implied_vol_newton_raphson(S, K, T, r, market_price)\n",
    "print('Implied Volatility:', implied_vol)\n"
   ]
  },
  {
   "cell_type": "code",
   "execution_count": null,
   "metadata": {},
   "outputs": [],
   "source": [
    "(pd.Timestamp('2023-07-07 08').value / 1_000_000_000  - time.time()) / (3600 * 24 * 365)"
   ]
  },
  {
   "cell_type": "code",
   "execution_count": null,
   "metadata": {},
   "outputs": [],
   "source": [
    "call_chain_df"
   ]
  },
  {
   "cell_type": "code",
   "execution_count": null,
   "metadata": {},
   "outputs": [],
   "source": [
    "implied_vol_newton_raphson(\n",
    "    1868.1, \n",
    "    1400, \n",
    "    (pd.Timestamp('2023-07-07 08').value / 1_000_000_000  - time.time()) / (3600 * 24 * 365), \n",
    "    0, \n",
    "    445.6,\n",
    "    max_iter=100\n",
    ")"
   ]
  },
  {
   "cell_type": "code",
   "execution_count": null,
   "metadata": {},
   "outputs": [],
   "source": [
    "put_chain_df"
   ]
  },
  {
   "cell_type": "code",
   "execution_count": null,
   "metadata": {},
   "outputs": [],
   "source": []
  }
 ],
 "metadata": {
  "language_info": {
   "name": "python"
  }
 },
 "nbformat": 4,
 "nbformat_minor": 2
}
