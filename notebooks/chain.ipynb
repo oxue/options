{
 "cells": [
  {
   "cell_type": "code",
   "execution_count": null,
   "metadata": {},
   "outputs": [],
   "source": [
    "from binance.spot import Spot as Client\n",
    "import pandas as pd\n",
    "import numpy as np\n",
    "import dotenv\n",
    "import matplotlib.pyplot as plt\n",
    "import os\n",
    "from aperture.option_client import OptionMarkPriceClient\n",
    "import time"
   ]
  },
  {
   "cell_type": "code",
   "execution_count": null,
   "metadata": {},
   "outputs": [],
   "source": [
    "dotenv.load_dotenv()"
   ]
  },
  {
   "cell_type": "code",
   "execution_count": null,
   "metadata": {},
   "outputs": [],
   "source": [
    "client = Client(\n",
    "    os.getenv(\"BINANCE_API_KEY\"),\n",
    "    os.getenv(\"BINANCE_API_SECRET\"), \n",
    ")"
   ]
  },
  {
   "cell_type": "code",
   "execution_count": null,
   "metadata": {},
   "outputs": [],
   "source": [
    "options_client = OptionMarkPriceClient(\n",
    "    api_key=os.getenv(\"BINANCE_API_KEY\"),\n",
    "    secret_key=os.getenv(\"BINANCE_API_SECRET\"),\n",
    ")"
   ]
  },
  {
   "cell_type": "code",
   "execution_count": null,
   "metadata": {},
   "outputs": [],
   "source": [
    "x_info = options_client.get_exchange_info()"
   ]
  },
  {
   "cell_type": "code",
   "execution_count": null,
   "metadata": {},
   "outputs": [],
   "source": [
    "pd.DataFrame(x_info['optionSymbols']).head(40)"
   ]
  },
  {
   "cell_type": "code",
   "execution_count": null,
   "metadata": {},
   "outputs": [],
   "source": [
    "pd.DataFrame(x_info['optionSymbols'])['expiryDate'].apply(lambda x: str(pd.to_datetime(x, unit='ms').date())).unique()"
   ]
  },
  {
   "cell_type": "code",
   "execution_count": null,
   "metadata": {},
   "outputs": [],
   "source": [
    "x_info.keys()"
   ]
  },
  {
   "cell_type": "code",
   "execution_count": null,
   "metadata": {},
   "outputs": [],
   "source": [
    "expiration_date = \"2023-07-14\"\n",
    "coin = 'ETH'\n",
    "call_chain_df = await options_client.get_option_chain_df(date=expiration_date, coin=coin, option_type='CALL')\n",
    "put_chain_df = await options_client.get_option_chain_df(date=expiration_date, coin=coin, option_type='PUT')\n",
    "query_time = pd.Timestamp(time.time() * 1_000_000_000)\n",
    "call_chain_df"
   ]
  },
  {
   "cell_type": "code",
   "execution_count": null,
   "metadata": {},
   "outputs": [],
   "source": [
    "underlying_price = float(client.ticker_price(symbol=f'{coin}USDT')['price'])"
   ]
  },
  {
   "cell_type": "code",
   "execution_count": null,
   "metadata": {},
   "outputs": [],
   "source": [
    "plt.figure(figsize=(20, 10))\n",
    "plt.plot(\n",
    "    call_chain_df['strike'],\n",
    "    call_chain_df['markPrice'],\n",
    "    color='blue',\n",
    "    label='Mark Price'\n",
    ")\n",
    "plt.ylabel('Mark Price')\n",
    "plt.legend(loc='upper left')\n",
    "plt.twinx()\n",
    "plt.scatter(\n",
    "    call_chain_df['strike'],\n",
    "    call_chain_df['askIV'],\n",
    "    color='black',\n",
    "    label='bidIV',\n",
    "    marker=\"v\"\n",
    ")\n",
    "plt.scatter(\n",
    "    call_chain_df['strike'],\n",
    "    call_chain_df['bidIV'],\n",
    "    color='black',\n",
    "    label='bidIV',\n",
    "    marker=\"^\"\n",
    ")\n",
    "plt.plot(\n",
    "    call_chain_df['strike'],\n",
    "    call_chain_df['markIV'],\n",
    "    '--',\n",
    "    color='black',\n",
    "    label='markIV'\n",
    ")\n",
    "plt.axvline(underlying_price, color='red', label='Underlying Price')\n",
    "plt.ylabel('IV')\n",
    "plt.legend()\n",
    "plt.title(\"IV and Mark Price for ETH Call Options on 2023-07-14\")"
   ]
  },
  {
   "cell_type": "code",
   "execution_count": null,
   "metadata": {},
   "outputs": [],
   "source": [
    "plt.figure(figsize=(20, 10))\n",
    "plt.plot(\n",
    "    put_chain_df['strike'],\n",
    "    put_chain_df['markPrice'],\n",
    "    color='blue',\n",
    "    label='Mark Price'\n",
    ")\n",
    "plt.ylabel('Mark Price')\n",
    "plt.legend(loc='upper left')\n",
    "plt.twinx()\n",
    "plt.scatter(\n",
    "    put_chain_df['strike'],\n",
    "    put_chain_df['askIV'],\n",
    "    color='black',\n",
    "    label='bidIV',\n",
    "    marker=\"v\"\n",
    ")\n",
    "plt.scatter(\n",
    "    put_chain_df['strike'],\n",
    "    put_chain_df['bidIV'],\n",
    "    color='black',\n",
    "    label='bidIV',\n",
    "    marker=\"^\"\n",
    ")\n",
    "plt.plot(\n",
    "    put_chain_df['strike'],\n",
    "    put_chain_df['markIV'],\n",
    "    '--',\n",
    "    color='black',\n",
    "    label='markIV'\n",
    ")\n",
    "plt.axvline(underlying_price, color='red', label='Underlying Price')\n",
    "plt.ylabel('IV')\n",
    "plt.legend()\n",
    "plt.title(\"IV and Mark Price for ETH Put Options on 2023-07-14\")"
   ]
  },
  {
   "cell_type": "code",
   "execution_count": null,
   "metadata": {},
   "outputs": [],
   "source": [
    "\n",
    "otm_put_chain_df = put_chain_df[put_chain_df['strike'] <= underlying_price]\n",
    "otm_call_chain_df = call_chain_df[call_chain_df['strike'] >= underlying_price]\n",
    "chain_df = pd.concat([otm_put_chain_df, otm_call_chain_df])\n",
    "chain_df.sort_values(by='strike', inplace=True)\n"
   ]
  },
  {
   "cell_type": "code",
   "execution_count": null,
   "metadata": {},
   "outputs": [],
   "source": [
    "chain_df.drop(2, inplace=True)"
   ]
  },
  {
   "cell_type": "code",
   "execution_count": null,
   "metadata": {},
   "outputs": [],
   "source": [
    "(chain_df['bidIV'] + chain_df['askIV']) / 2 - chain_df['markIV']"
   ]
  },
  {
   "cell_type": "code",
   "execution_count": null,
   "metadata": {},
   "outputs": [],
   "source": [
    "plt.figure(figsize=(20, 10))\n",
    "plt.plot(chain_df['strike'], chain_df['markIV'], label='put mark IV', linestyle='--', color='blue')\n",
    "plt.scatter(put_chain_df['strike'], put_chain_df['askIV'], label='put ask IV', marker='v', color='red')\n",
    "plt.scatter(put_chain_df['strike'], put_chain_df['bidIV'], label='put bid IV', marker='^', color='red')\n",
    "plt.scatter(call_chain_df['strike'], call_chain_df['askIV'], label='call ask IV', marker='v', color='green', alpha=0.5)\n",
    "plt.scatter(call_chain_df['strike'], call_chain_df['bidIV'], label='call bid IV', marker='^', color='green', alpha=0.5)\n",
    "plt.legend()\n",
    "plt.grid()\n",
    "# plt.plot(call_chain_df['strike'], put_chain_df['markIV'], label='put mark IV')"
   ]
  },
  {
   "cell_type": "code",
   "execution_count": null,
   "metadata": {},
   "outputs": [],
   "source": [
    "import numpy as np\n",
    "from scipy.optimize import curve_fit\n",
    "\n",
    "def svi_vol(k, a, b, rho, m, sigma):\n",
    "    return np.sqrt(a + b * (rho * (k - m) + np.sqrt((k - m)**2 + sigma**2)))\n",
    "\n",
    "strikes = chain_df['strike']\n",
    "observed_vol = chain_df['markIV']\n",
    "# Take the log of the strike prices\n",
    "log_strikes = np.log(strikes)\n",
    "\n",
    "\n",
    "# Initial parameter guesses: replace these with your actual initial guesses\n",
    "init_params = np.array(np.array([0.1, 0.1, 0.1, 100, 0.1]))  \n",
    "\n",
    "tol = 1e-8\n",
    "ftol = 1e-8\n",
    "method = 'lm'\n",
    "# perform the optimization\n",
    "params_opt, params_cov = curve_fit(svi_vol, log_strikes, observed_vol, p0=init_params, maxfev=10000, method=method, xtol=tol, ftol=tol)\n",
    "\n",
    "# do a second fit, with parameters close to the first ones\n",
    "# params_opt, params_cov = curve_fit(svi_vol, log_strikes, observed_vol, p0=params_opt, maxfev=10000, method=method, xtol=tol, ftol=tol)\n",
    "\n",
    "# do a second fit, with parameters close to the first ones\n",
    "params_opt, params_cov = curve_fit(svi_vol, log_strikes, observed_vol, p0=params_opt, maxfev=10000, method=method, xtol=tol, ftol=tol)\n",
    "\n",
    "# print the optimal parameters\n",
    "print(params_opt)\n"
   ]
  },
  {
   "cell_type": "code",
   "execution_count": null,
   "metadata": {},
   "outputs": [],
   "source": [
    "plt.figure(figsize=(20, 10))\n",
    "plt.grid()\n",
    "plt.plot(strikes, observed_vol, \"o\", label='emperical mark IV')\n",
    "plt.plot(strikes, svi_vol(np.log(strikes), *params_opt), \"-\", label='svi mark IV')\n",
    "plt.scatter(chain_df['strike'], chain_df['askIV'], label='ask IV', marker='v', color='black')\n",
    "plt.scatter(chain_df['strike'], chain_df['bidIV'], label='bid IV', marker='^', color='black')\n",
    "plt.legend()"
   ]
  },
  {
   "cell_type": "code",
   "execution_count": null,
   "metadata": {},
   "outputs": [],
   "source": [
    "import time"
   ]
  },
  {
   "cell_type": "code",
   "execution_count": null,
   "metadata": {},
   "outputs": [],
   "source": [
    "T = pd.Timestamp(\"2023-07-07 08\") - query_time\n",
    "T / pd.Timedelta(365, unit='D')"
   ]
  },
  {
   "cell_type": "code",
   "execution_count": null,
   "metadata": {},
   "outputs": [],
   "source": [
    "\n",
    "\n",
    "import time \n",
    "import numpy as np\n",
    "from scipy.stats import norm\n",
    "from scipy.interpolate import interp1d\n",
    "\n",
    "def black_scholes_call(S, K, T, r, sigma):\n",
    "    d1 = (np.log(S / K) + (r + 0.5 * sigma ** 2) * T) / (sigma * np.sqrt(T))\n",
    "    d2 = d1 - sigma * np.sqrt(T)\n",
    "    return S * norm.cdf(d1) - K * np.exp(-r * T) * norm.cdf(d2)\n",
    "\n",
    "# Let's assume we have these variables (replace with actual values)\n",
    "S = underlying_price  # Underlying asset price\n",
    "r = 0  # Risk-free rate\n",
    "T = (pd.Timestamp(\"2023-07-07 08\") - pd.Timestamp(time.time() * 1_000_000_000)) / pd.Timedelta(365, unit='D')\n",
    "\n",
    "# Assume we have implied volatilities for these strikes\n",
    "cont_strikes = np.linspace(1400, 2200, 501)  # The strike prices\n",
    "observed_vol = svi_vol(np.log(cont_strikes), *params_opt) # The observed implied volatilities\n",
    "\n",
    "# Calculate option prices for each strike\n",
    "option_prices = black_scholes_call(S, cont_strikes, T, r, observed_vol)\n",
    "\n",
    "# Define a function to calculate the second derivative\n",
    "def second_derivative(x, y):\n",
    "    first_derivative = np.gradient(y, x)\n",
    "    return np.gradient(first_derivative, x)\n",
    "\n",
    "# Calculate the second derivative of the option price with respect to the strike\n",
    "risk_neutral_pdf = second_derivative(cont_strikes, option_prices)\n",
    "\n",
    "# Interpolate to create a function for the risk neutral PDF\n",
    "risk_neutral_pdf_func = interp1d(cont_strikes, risk_neutral_pdf, kind='cubic')\n",
    "\n",
    "plt.figure(figsize=(20, 10))\n",
    "plt.plot(cont_strikes, risk_neutral_pdf)\n"
   ]
  },
  {
   "cell_type": "code",
   "execution_count": null,
   "metadata": {},
   "outputs": [],
   "source": [
    "cont_strikes[1] - cont_strikes[0]"
   ]
  },
  {
   "cell_type": "code",
   "execution_count": null,
   "metadata": {},
   "outputs": [],
   "source": [
    "from scipy.integrate import simps\n",
    "\n",
    "# Initialize an array for the CDF\n",
    "cdf = np.zeros_like(risk_neutral_pdf)\n",
    "\n",
    "# Calculate the CDF at each point in x using Simpson's rule\n",
    "for i in range(1, len(cont_strikes)):\n",
    "    cdf[i] = simps(risk_neutral_pdf[:i+1], cont_strikes[:i+1])\n",
    "\n",
    "# Now cdf is the cumulative distribution function"
   ]
  },
  {
   "cell_type": "code",
   "execution_count": null,
   "metadata": {},
   "outputs": [],
   "source": [
    "\n",
    "plt.plot(cont_strikes, cdf)\n",
    "plt.grid()\n",
    "# plt.ylim(0.9, 1.1)"
   ]
  },
  {
   "cell_type": "code",
   "execution_count": null,
   "metadata": {},
   "outputs": [],
   "source": [
    "# plot prices\n",
    "plt.figure(figsize=(20, 10))\n",
    "plt.plot(\n",
    "    chain_df['strike'],\n",
    "    chain_df['markPrice'],\n",
    "    'o-',\n",
    "    label='mark price',\n",
    ")\n",
    "plt.plot(\n",
    "    call_chain_df['strike'],\n",
    "    call_chain_df['markPrice'],\n",
    "    'o-',\n",
    "    label='call mark price',\n",
    ")\n",
    "plt.plot(\n",
    "    put_chain_df['strike'],\n",
    "    put_chain_df['markPrice'],\n",
    "    'o-',\n",
    "    label='call mark price',\n",
    ")\n",
    "plt.axvline(underlying_price, color='black', linestyle='--', label='underlying price')\n",
    "plt.legend()\n",
    "plt.grid()"
   ]
  },
  {
   "cell_type": "code",
   "execution_count": null,
   "metadata": {},
   "outputs": [],
   "source": [
    "import math\n",
    "from scipy.stats import norm\n",
    "\n",
    "def black_scholes_call(S, K, T, r, sigma):\n",
    "    \"\"\"\n",
    "    This function returns the Black-Scholes call price.\n",
    "    \"\"\"\n",
    "    d1 = (math.log(S/K) + (r + sigma**2 / 2) * T) / (sigma * math.sqrt(T))\n",
    "    d2 = d1 - sigma * math.sqrt(T)\n",
    "    return S * norm.cdf(d1) - K * math.exp(-r * T) * norm.cdf(d2)\n",
    "\n",
    "def vega(S, K, T, r, sigma):\n",
    "    \"\"\"\n",
    "    This function returns the Vega of the option, which is needed in the calculation of implied volatility.\n",
    "    \"\"\"\n",
    "    d1 = (math.log(S/K) + (r + sigma**2 / 2) * T) / (sigma * math.sqrt(T))\n",
    "    return S * norm.pdf(d1) * math.sqrt(T)\n",
    "\n",
    "def implied_vol_newton_raphson(S, K, T, r, market_price, sigma_init=0.5, max_iter=100, tol=1e-5):\n",
    "    \"\"\"\n",
    "    This function returns the implied volatility using Newton-Raphson method.\n",
    "    \"\"\"\n",
    "    sigma = sigma_init\n",
    "    for i in range(max_iter):\n",
    "        price = black_scholes_call(S, K, T, r, sigma)\n",
    "        v = vega(S, K, T, r, sigma)\n",
    "        print(v)\n",
    "        price_diff = price - market_price  # f(sigma)\n",
    "\n",
    "        # if the difference is very small, break out the loop\n",
    "        if abs(price_diff) < tol:\n",
    "            return sigma\n",
    "\n",
    "        # Newton-Raphson formula\n",
    "        sigma = sigma - price_diff/v  # sigma - f(sigma)/f'(sigma)\n",
    "\n",
    "    # If volatility is not found after max iterations, raise an exception\n",
    "    raise Exception('Implied volatility not found')\n",
    "\n",
    "# usage example:\n",
    "S = 100  # Underlying asset price\n",
    "K = 100  # Strike price\n",
    "T = 1    # Time to maturity\n",
    "r = 0.05 # Risk-free interest rate\n",
    "market_price = 10  # Market price of the option\n",
    "\n",
    "implied_vol = implied_vol_newton_raphson(S, K, T, r, market_price)\n",
    "print('Implied Volatility:', implied_vol)\n"
   ]
  },
  {
   "cell_type": "code",
   "execution_count": null,
   "metadata": {},
   "outputs": [],
   "source": [
    "call_chain_df"
   ]
  },
  {
   "cell_type": "code",
   "execution_count": null,
   "metadata": {},
   "outputs": [],
   "source": [
    "import time"
   ]
  },
  {
   "cell_type": "code",
   "execution_count": null,
   "metadata": {},
   "outputs": [],
   "source": [
    "implied_vol_newton_raphson(\n",
    "    1868.1, \n",
    "    1750, \n",
    "    (pd.Timestamp('2023-07-07 08').value / 1_000_000_000  - time.time()) / (3600 * 24 * 365), \n",
    "    0, \n",
    "    97,\n",
    "    sigma_init=0.3,\n",
    "    max_iter=1000\n",
    ")"
   ]
  },
  {
   "cell_type": "code",
   "execution_count": null,
   "metadata": {},
   "outputs": [],
   "source": [
    "put_chain_df"
   ]
  },
  {
   "cell_type": "code",
   "execution_count": null,
   "metadata": {},
   "outputs": [],
   "source": []
  }
 ],
 "metadata": {
  "language_info": {
   "name": "python"
  }
 },
 "nbformat": 4,
 "nbformat_minor": 2
}
